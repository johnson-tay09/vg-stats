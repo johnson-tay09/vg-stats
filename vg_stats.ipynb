{
 "metadata": {
  "language_info": {
   "codemirror_mode": {
    "name": "ipython",
    "version": 3
   },
   "file_extension": ".py",
   "mimetype": "text/x-python",
   "name": "python",
   "nbconvert_exporter": "python",
   "pygments_lexer": "ipython3",
   "version": "3.9.0-final"
  },
  "orig_nbformat": 2,
  "kernelspec": {
   "name": "python3",
   "display_name": "Python 3"
  }
 },
 "nbformat": 4,
 "nbformat_minor": 2,
 "cells": [
  {
   "cell_type": "code",
   "execution_count": 18,
   "metadata": {},
   "outputs": [],
   "source": [
    "# Lab12 Video Game Sale Stats - Taylor Johnson 11/25/2020"
   ]
  },
  {
   "cell_type": "code",
   "execution_count": 19,
   "metadata": {},
   "outputs": [],
   "source": [
    "import pandas as pd"
   ]
  },
  {
   "cell_type": "code",
   "execution_count": 20,
   "metadata": {},
   "outputs": [
    {
     "output_type": "stream",
     "name": "stdout",
     "text": [
      "<class 'pandas.core.frame.DataFrame'>\nRangeIndex: 16598 entries, 0 to 16597\nData columns (total 11 columns):\n #   Column        Non-Null Count  Dtype  \n---  ------        --------------  -----  \n 0   Rank          16598 non-null  int64  \n 1   Name          16598 non-null  object \n 2   Platform      16598 non-null  object \n 3   Year          16327 non-null  float64\n 4   Genre         16598 non-null  object \n 5   Publisher     16540 non-null  object \n 6   NA_Sales      16598 non-null  float64\n 7   EU_Sales      16598 non-null  float64\n 8   JP_Sales      16598 non-null  float64\n 9   Other_Sales   16598 non-null  float64\n 10  Global_Sales  16598 non-null  float64\ndtypes: float64(6), int64(1), object(4)\nmemory usage: 1.4+ MB\n"
     ]
    }
   ],
   "source": [
    "# data from https://www.kaggle.com/gregorut/videogamesales\n",
    "df = pd.read_csv('vgsales.csv')\n",
    "df.info()"
   ]
  },
  {
   "cell_type": "code",
   "execution_count": 21,
   "metadata": {},
   "outputs": [
    {
     "output_type": "execute_result",
     "data": {
      "text/plain": [
       "   Rank               Name Platform    Year     Genre Publisher  NA_Sales  \\\n",
       "0     1         Wii Sports      Wii  2006.0    Sports  Nintendo     41.49   \n",
       "1     2  Super Mario Bros.      NES  1985.0  Platform  Nintendo     29.08   \n",
       "\n",
       "   EU_Sales  JP_Sales  Other_Sales  Global_Sales  \n",
       "0     29.02      3.77         8.46         82.74  \n",
       "1      3.58      6.81         0.77         40.24  "
      ],
      "text/html": "<div>\n<style scoped>\n    .dataframe tbody tr th:only-of-type {\n        vertical-align: middle;\n    }\n\n    .dataframe tbody tr th {\n        vertical-align: top;\n    }\n\n    .dataframe thead th {\n        text-align: right;\n    }\n</style>\n<table border=\"1\" class=\"dataframe\">\n  <thead>\n    <tr style=\"text-align: right;\">\n      <th></th>\n      <th>Rank</th>\n      <th>Name</th>\n      <th>Platform</th>\n      <th>Year</th>\n      <th>Genre</th>\n      <th>Publisher</th>\n      <th>NA_Sales</th>\n      <th>EU_Sales</th>\n      <th>JP_Sales</th>\n      <th>Other_Sales</th>\n      <th>Global_Sales</th>\n    </tr>\n  </thead>\n  <tbody>\n    <tr>\n      <th>0</th>\n      <td>1</td>\n      <td>Wii Sports</td>\n      <td>Wii</td>\n      <td>2006.0</td>\n      <td>Sports</td>\n      <td>Nintendo</td>\n      <td>41.49</td>\n      <td>29.02</td>\n      <td>3.77</td>\n      <td>8.46</td>\n      <td>82.74</td>\n    </tr>\n    <tr>\n      <th>1</th>\n      <td>2</td>\n      <td>Super Mario Bros.</td>\n      <td>NES</td>\n      <td>1985.0</td>\n      <td>Platform</td>\n      <td>Nintendo</td>\n      <td>29.08</td>\n      <td>3.58</td>\n      <td>6.81</td>\n      <td>0.77</td>\n      <td>40.24</td>\n    </tr>\n  </tbody>\n</table>\n</div>"
     },
     "metadata": {},
     "execution_count": 21
    }
   ],
   "source": [
    "df.head(2)"
   ]
  },
  {
   "cell_type": "code",
   "execution_count": 22,
   "metadata": {},
   "outputs": [
    {
     "output_type": "execute_result",
     "data": {
      "text/plain": [
       "Publisher      \n",
       "Electronic Arts    1351\n",
       "dtype: int64"
      ]
     },
     "metadata": {},
     "execution_count": 22
    }
   ],
   "source": [
    "# 1. Which company is the most common video game publisher?\n",
    "df[[\"Publisher\"]].value_counts().head(1) "
   ]
  },
  {
   "cell_type": "code",
   "execution_count": 23,
   "metadata": {},
   "outputs": [
    {
     "output_type": "execute_result",
     "data": {
      "text/plain": [
       "Platform\n",
       "DS          2163\n",
       "dtype: int64"
      ]
     },
     "metadata": {},
     "execution_count": 23
    }
   ],
   "source": [
    "# 2. What’s the most common platform?\n",
    "df[[\"Platform\"]].value_counts().head(1)"
   ]
  },
  {
   "cell_type": "code",
   "execution_count": 24,
   "metadata": {},
   "outputs": [
    {
     "output_type": "execute_result",
     "data": {
      "text/plain": [
       "Genre \n",
       "Action    3316\n",
       "dtype: int64"
      ]
     },
     "metadata": {},
     "execution_count": 24
    }
   ],
   "source": [
    "# 3. What about the most common genre?\n",
    "df[[\"Genre\"]].value_counts().head(1)\n"
   ]
  },
  {
   "cell_type": "code",
   "execution_count": 25,
   "metadata": {},
   "outputs": [
    {
     "output_type": "execute_result",
     "data": {
      "text/plain": [
       "                                              Name\n",
       "Rank                                              \n",
       "1                                       Wii Sports\n",
       "2                                Super Mario Bros.\n",
       "3                                   Mario Kart Wii\n",
       "4                                Wii Sports Resort\n",
       "5                         Pokemon Red/Pokemon Blue\n",
       "6                                           Tetris\n",
       "7                            New Super Mario Bros.\n",
       "8                                         Wii Play\n",
       "9                        New Super Mario Bros. Wii\n",
       "10                                       Duck Hunt\n",
       "11                                      Nintendogs\n",
       "12                                   Mario Kart DS\n",
       "13                     Pokemon Gold/Pokemon Silver\n",
       "14                                         Wii Fit\n",
       "15                                    Wii Fit Plus\n",
       "16                              Kinect Adventures!\n",
       "17                              Grand Theft Auto V\n",
       "18                   Grand Theft Auto: San Andreas\n",
       "19                               Super Mario World\n",
       "20    Brain Age: Train Your Brain in Minutes a Day"
      ],
      "text/html": "<div>\n<style scoped>\n    .dataframe tbody tr th:only-of-type {\n        vertical-align: middle;\n    }\n\n    .dataframe tbody tr th {\n        vertical-align: top;\n    }\n\n    .dataframe thead th {\n        text-align: right;\n    }\n</style>\n<table border=\"1\" class=\"dataframe\">\n  <thead>\n    <tr style=\"text-align: right;\">\n      <th></th>\n      <th>Name</th>\n    </tr>\n    <tr>\n      <th>Rank</th>\n      <th></th>\n    </tr>\n  </thead>\n  <tbody>\n    <tr>\n      <th>1</th>\n      <td>Wii Sports</td>\n    </tr>\n    <tr>\n      <th>2</th>\n      <td>Super Mario Bros.</td>\n    </tr>\n    <tr>\n      <th>3</th>\n      <td>Mario Kart Wii</td>\n    </tr>\n    <tr>\n      <th>4</th>\n      <td>Wii Sports Resort</td>\n    </tr>\n    <tr>\n      <th>5</th>\n      <td>Pokemon Red/Pokemon Blue</td>\n    </tr>\n    <tr>\n      <th>6</th>\n      <td>Tetris</td>\n    </tr>\n    <tr>\n      <th>7</th>\n      <td>New Super Mario Bros.</td>\n    </tr>\n    <tr>\n      <th>8</th>\n      <td>Wii Play</td>\n    </tr>\n    <tr>\n      <th>9</th>\n      <td>New Super Mario Bros. Wii</td>\n    </tr>\n    <tr>\n      <th>10</th>\n      <td>Duck Hunt</td>\n    </tr>\n    <tr>\n      <th>11</th>\n      <td>Nintendogs</td>\n    </tr>\n    <tr>\n      <th>12</th>\n      <td>Mario Kart DS</td>\n    </tr>\n    <tr>\n      <th>13</th>\n      <td>Pokemon Gold/Pokemon Silver</td>\n    </tr>\n    <tr>\n      <th>14</th>\n      <td>Wii Fit</td>\n    </tr>\n    <tr>\n      <th>15</th>\n      <td>Wii Fit Plus</td>\n    </tr>\n    <tr>\n      <th>16</th>\n      <td>Kinect Adventures!</td>\n    </tr>\n    <tr>\n      <th>17</th>\n      <td>Grand Theft Auto V</td>\n    </tr>\n    <tr>\n      <th>18</th>\n      <td>Grand Theft Auto: San Andreas</td>\n    </tr>\n    <tr>\n      <th>19</th>\n      <td>Super Mario World</td>\n    </tr>\n    <tr>\n      <th>20</th>\n      <td>Brain Age: Train Your Brain in Minutes a Day</td>\n    </tr>\n  </tbody>\n</table>\n</div>"
     },
     "metadata": {},
     "execution_count": 25
    }
   ],
   "source": [
    "# 4. What are the top 20 highest grossing games?\n",
    "df[[\"Rank\", \"Name\"]].head(20).set_index(\"Rank\")"
   ]
  },
  {
   "cell_type": "code",
   "execution_count": 47,
   "metadata": {},
   "outputs": [
    {
     "output_type": "execute_result",
     "data": {
      "text/plain": [
       "                                                   Name  NA_Sales  Rank\n",
       "938                                             Pinball       0.8   940\n",
       "1039                   Star Ocean: Till The End of Time       0.8  1041\n",
       "1071               Call of Duty Black Ops: Declassified       0.8  1073\n",
       "1113                         Kirby & the Amazing Mirror       0.8  1115\n",
       "1118                          Tiger Woods PGA Tour 2003       0.8  1120\n",
       "1134  Tony Hawk's American Wasteland (Old all region...       0.8  1136\n",
       "1139                          Pokemon Battle Revolution       0.8  1141\n",
       "1203                  Star Wars: The Force Unleashed II       0.8  1205\n",
       "1345                        Frogger 2: Swampy's Revenge       0.8  1347\n",
       "1355                                UFC Undisputed 2010       0.8  1357\n",
       "1409                                     Gardening Mama       0.8  1411"
      ],
      "text/html": "<div>\n<style scoped>\n    .dataframe tbody tr th:only-of-type {\n        vertical-align: middle;\n    }\n\n    .dataframe tbody tr th {\n        vertical-align: top;\n    }\n\n    .dataframe thead th {\n        text-align: right;\n    }\n</style>\n<table border=\"1\" class=\"dataframe\">\n  <thead>\n    <tr style=\"text-align: right;\">\n      <th></th>\n      <th>Name</th>\n      <th>NA_Sales</th>\n      <th>Rank</th>\n    </tr>\n  </thead>\n  <tbody>\n    <tr>\n      <th>938</th>\n      <td>Pinball</td>\n      <td>0.8</td>\n      <td>940</td>\n    </tr>\n    <tr>\n      <th>1039</th>\n      <td>Star Ocean: Till The End of Time</td>\n      <td>0.8</td>\n      <td>1041</td>\n    </tr>\n    <tr>\n      <th>1071</th>\n      <td>Call of Duty Black Ops: Declassified</td>\n      <td>0.8</td>\n      <td>1073</td>\n    </tr>\n    <tr>\n      <th>1113</th>\n      <td>Kirby &amp; the Amazing Mirror</td>\n      <td>0.8</td>\n      <td>1115</td>\n    </tr>\n    <tr>\n      <th>1118</th>\n      <td>Tiger Woods PGA Tour 2003</td>\n      <td>0.8</td>\n      <td>1120</td>\n    </tr>\n    <tr>\n      <th>1134</th>\n      <td>Tony Hawk's American Wasteland (Old all region...</td>\n      <td>0.8</td>\n      <td>1136</td>\n    </tr>\n    <tr>\n      <th>1139</th>\n      <td>Pokemon Battle Revolution</td>\n      <td>0.8</td>\n      <td>1141</td>\n    </tr>\n    <tr>\n      <th>1203</th>\n      <td>Star Wars: The Force Unleashed II</td>\n      <td>0.8</td>\n      <td>1205</td>\n    </tr>\n    <tr>\n      <th>1345</th>\n      <td>Frogger 2: Swampy's Revenge</td>\n      <td>0.8</td>\n      <td>1347</td>\n    </tr>\n    <tr>\n      <th>1355</th>\n      <td>UFC Undisputed 2010</td>\n      <td>0.8</td>\n      <td>1357</td>\n    </tr>\n    <tr>\n      <th>1409</th>\n      <td>Gardening Mama</td>\n      <td>0.8</td>\n      <td>1411</td>\n    </tr>\n  </tbody>\n</table>\n</div>"
     },
     "metadata": {},
     "execution_count": 47
    }
   ],
   "source": [
    "# 5. For North American video game sales, what’s the median?\n",
    "# Provide a secondary output showing ten games surrounding the median sales output\n",
    "# assume that games with same median value are sorted in descending order\n",
    "na_med = df[[\"NA_Sales\"]].median()\n",
    "df[df[\"NA_Sales\"] == 0.8][[\"Name\", \"NA_Sales\", \"Rank\"]][1:12]"
   ]
  },
  {
   "cell_type": "code",
   "execution_count": 27,
   "metadata": {},
   "outputs": [
    {
     "output_type": "execute_result",
     "data": {
      "text/plain": [
       "NA_Sales    50.0\n",
       "dtype: float64"
      ]
     },
     "metadata": {},
     "execution_count": 27
    }
   ],
   "source": [
    "# 6. For the top-selling game of all time, how many standard deviations above/below the mean are its sales for North America?\n",
    "(df[[\"NA_Sales\"]].max() - df[[\"NA_Sales\"]].mean()) // df[[\"NA_Sales\"]].std()\n",
    "\n"
   ]
  },
  {
   "cell_type": "code",
   "execution_count": 28,
   "metadata": {},
   "outputs": [
    {
     "output_type": "execute_result",
     "data": {
      "text/plain": [
       "Global_Sales    0.537441\n",
       "dtype: float64"
      ]
     },
     "metadata": {},
     "execution_count": 28
    }
   ],
   "source": [
    "# 7. The Nintendo Wii seems to have outdone itself with games. How does its average number of sales compare with all of the other platforms?\n",
    "df[[\"Global_Sales\"]].mean()"
   ]
  },
  {
   "cell_type": "code",
   "execution_count": 33,
   "metadata": {},
   "outputs": [
    {
     "output_type": "execute_result",
     "data": {
      "text/plain": [
       "Global_Sales    4.728591\n",
       "dtype: float64"
      ]
     },
     "metadata": {},
     "execution_count": 33
    }
   ],
   "source": [
    "# nintendo has over 4x the average global sales!\n",
    "global_avg = df[[\"Global_Sales\"]].mean()\n",
    "nintedno_rate = df[df['Publisher'] == \"Nintendo\"][[\"Global_Sales\"]].mean() / global_avg\n",
    "nintedno_rate"
   ]
  },
  {
   "cell_type": "code",
   "execution_count": 43,
   "metadata": {},
   "outputs": [
    {
     "output_type": "execute_result",
     "data": {
      "text/plain": [
       "            Rank    Year\n",
       "Name                    \n",
       "Wii Sports     1  2006.0"
      ],
      "text/html": "<div>\n<style scoped>\n    .dataframe tbody tr th:only-of-type {\n        vertical-align: middle;\n    }\n\n    .dataframe tbody tr th {\n        vertical-align: top;\n    }\n\n    .dataframe thead th {\n        text-align: right;\n    }\n</style>\n<table border=\"1\" class=\"dataframe\">\n  <thead>\n    <tr style=\"text-align: right;\">\n      <th></th>\n      <th>Rank</th>\n      <th>Year</th>\n    </tr>\n    <tr>\n      <th>Name</th>\n      <th></th>\n      <th></th>\n    </tr>\n  </thead>\n  <tbody>\n    <tr>\n      <th>Wii Sports</th>\n      <td>1</td>\n      <td>2006.0</td>\n    </tr>\n  </tbody>\n</table>\n</div>"
     },
     "metadata": {},
     "execution_count": 43
    }
   ],
   "source": [
    "# Which year was the record selling game published?\n",
    "record_year = df[[\"Name\", \"Rank\", \"Year\"]].head(1).set_index(\"Name\")\n",
    "record_year"
   ]
  },
  {
   "cell_type": "code",
   "execution_count": 45,
   "metadata": {},
   "outputs": [
    {
     "output_type": "execute_result",
     "data": {
      "text/plain": [
       "                                                    Name\n",
       "Rank                                                    \n",
       "16581                      Outdoors Unleashed: Africa 3D\n",
       "16582                                  PGA European Tour\n",
       "16583                                          Real Rode\n",
       "16584                                          Fit & Fun\n",
       "16585                                    Planet Monsters\n",
       "16586                                     Carmageddon 64\n",
       "16587                                   Bust-A-Move 3000\n",
       "16588                                             Breach\n",
       "16589                     Secret Files 2: Puritas Cordis\n",
       "16590                           Mezase!! Tsuri Master DS\n",
       "16591                                   Mega Brain Boost\n",
       "16592  Chou Ezaru wa Akai Hana: Koi wa Tsuki ni Shiru...\n",
       "16593  Eiyuu Densetsu: Sora no Kiseki Material Collec...\n",
       "16594                                Myst IV: Revelation\n",
       "16595                                           Plushees\n",
       "16596                 Woody Woodpecker in Crazy Castle 5\n",
       "16597                      Men in Black II: Alien Escape\n",
       "16598   SCORE International Baja 1000: The Official Game\n",
       "16599                                         Know How 2\n",
       "16600                                   Spirits & Spells"
      ],
      "text/html": "<div>\n<style scoped>\n    .dataframe tbody tr th:only-of-type {\n        vertical-align: middle;\n    }\n\n    .dataframe tbody tr th {\n        vertical-align: top;\n    }\n\n    .dataframe thead th {\n        text-align: right;\n    }\n</style>\n<table border=\"1\" class=\"dataframe\">\n  <thead>\n    <tr style=\"text-align: right;\">\n      <th></th>\n      <th>Name</th>\n    </tr>\n    <tr>\n      <th>Rank</th>\n      <th></th>\n    </tr>\n  </thead>\n  <tbody>\n    <tr>\n      <th>16581</th>\n      <td>Outdoors Unleashed: Africa 3D</td>\n    </tr>\n    <tr>\n      <th>16582</th>\n      <td>PGA European Tour</td>\n    </tr>\n    <tr>\n      <th>16583</th>\n      <td>Real Rode</td>\n    </tr>\n    <tr>\n      <th>16584</th>\n      <td>Fit &amp; Fun</td>\n    </tr>\n    <tr>\n      <th>16585</th>\n      <td>Planet Monsters</td>\n    </tr>\n    <tr>\n      <th>16586</th>\n      <td>Carmageddon 64</td>\n    </tr>\n    <tr>\n      <th>16587</th>\n      <td>Bust-A-Move 3000</td>\n    </tr>\n    <tr>\n      <th>16588</th>\n      <td>Breach</td>\n    </tr>\n    <tr>\n      <th>16589</th>\n      <td>Secret Files 2: Puritas Cordis</td>\n    </tr>\n    <tr>\n      <th>16590</th>\n      <td>Mezase!! Tsuri Master DS</td>\n    </tr>\n    <tr>\n      <th>16591</th>\n      <td>Mega Brain Boost</td>\n    </tr>\n    <tr>\n      <th>16592</th>\n      <td>Chou Ezaru wa Akai Hana: Koi wa Tsuki ni Shiru...</td>\n    </tr>\n    <tr>\n      <th>16593</th>\n      <td>Eiyuu Densetsu: Sora no Kiseki Material Collec...</td>\n    </tr>\n    <tr>\n      <th>16594</th>\n      <td>Myst IV: Revelation</td>\n    </tr>\n    <tr>\n      <th>16595</th>\n      <td>Plushees</td>\n    </tr>\n    <tr>\n      <th>16596</th>\n      <td>Woody Woodpecker in Crazy Castle 5</td>\n    </tr>\n    <tr>\n      <th>16597</th>\n      <td>Men in Black II: Alien Escape</td>\n    </tr>\n    <tr>\n      <th>16598</th>\n      <td>SCORE International Baja 1000: The Official Game</td>\n    </tr>\n    <tr>\n      <th>16599</th>\n      <td>Know How 2</td>\n    </tr>\n    <tr>\n      <th>16600</th>\n      <td>Spirits &amp; Spells</td>\n    </tr>\n  </tbody>\n</table>\n</div>"
     },
     "metadata": {},
     "execution_count": 45
    }
   ],
   "source": [
    "# What are the bottom 20 scoring games?\n",
    "epic_fail = df[[\"Rank\", \"Name\"]].tail(20).set_index(\"Rank\")\n",
    "epic_fail"
   ]
  },
  {
   "cell_type": "code",
   "execution_count": 46,
   "metadata": {},
   "outputs": [
    {
     "output_type": "execute_result",
     "data": {
      "text/plain": [
       "Global_Sales    8920.44\n",
       "dtype: float64"
      ]
     },
     "metadata": {},
     "execution_count": 46
    }
   ],
   "source": [
    "# What is the grand total sales of all games?\n",
    "cash_money = df[[\"Global_Sales\"]].sum()\n",
    "cash_money"
   ]
  },
  {
   "cell_type": "code",
   "execution_count": null,
   "metadata": {},
   "outputs": [],
   "source": []
  }
 ]
}